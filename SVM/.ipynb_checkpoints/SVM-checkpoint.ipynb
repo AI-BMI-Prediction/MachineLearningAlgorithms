{
 "cells": [
  {
   "cell_type": "code",
   "execution_count": 1,
   "id": "8cee7f0e",
   "metadata": {},
   "outputs": [],
   "source": [
    "import pandas as pd"
   ]
  },
  {
   "cell_type": "code",
   "execution_count": 2,
   "id": "a57868a6",
   "metadata": {},
   "outputs": [],
   "source": [
    "from sklearn.preprocessing import StandardScaler\n",
    "from sklearn import svm\n",
    "from sklearn import metrics\n",
    "from sklearn.metrics import f1_score ## F1 Score 구하기\n",
    "from sklearn.metrics import precision_recall_fscore_support as sk\n",
    "from imblearn.over_sampling import SMOTE\n",
    "\n",
    "#먼저 데이터 읽어오기\n",
    "df=pd.read_excel('../optimal_data2/Continous_2weeks_2day_1term.xlsx')\n",
    "df.head()\n",
    "X=df.iloc[:,[1,3,4,5,6,7]]\n",
    "y=df.iloc[:,-1]"
   ]
  },
  {
   "cell_type": "code",
   "execution_count": null,
   "id": "e0ca220a",
   "metadata": {},
   "outputs": [
    {
     "name": "stdout",
     "output_type": "stream",
     "text": [
      "1\n"
     ]
    }
   ],
   "source": [
    "#스케일링 먼저 하고 ndarray를 dataframe으로 변환\n",
    "scaler = StandardScaler()\n",
    "X=scaler.fit_transform(X)\n",
    "X=pd.DataFrame(X)\n",
    "\n",
    "Result=[[0 for j in range(4)] for i in range(10)]\n",
    "Count= int(322/10)*83\n",
    "for i in range(10):\n",
    "    #마지막 그룹은 34명\n",
    "    if i==9:\n",
    "        X_test=X.iloc[Count*i:-1]\n",
    "        X_train=X.drop(X.index[Count*i:-1])\n",
    "        y_test=y.iloc[Count*i:-1]\n",
    "        y_train=y.drop(y.index[Count*i:-1])\n",
    "    \n",
    "    #모든 그룹은 32명씩\n",
    "    X_test=X.iloc[Count*i:Count*(i+1)]\n",
    "    X_train=X.drop(X.index[Count*i:Count*(i+1)])\n",
    "    y_test=y.iloc[Count*i:Count*(i+1)]\n",
    "    y_train=y.drop(y.index[Count*i:Count*(i+1)])\n",
    "    \n",
    "    #SMOTE 적용\n",
    "    smote = SMOTE(random_state=0)\n",
    "    X_train,y_train = smote.fit_resample(X_train,y_train)\n",
    "    X_test,y_test = smote.fit_resample(X_test,y_test)\n",
    "\n",
    "    print(\"1\")\n",
    "    \n",
    "    #모델 정의, 예측\n",
    "    #여기서 문제 생기는듯\n",
    "    model = svm.SVC(kernel='rbf').fit(X_train,y_train) # rbf Kernel\n",
    "    predict=model.predict(X_test)\n",
    "        \n",
    "    print(\"2\")\n",
    "    \n",
    "    #Accuracy\n",
    "    print(\"[{}]Accuracy : {}\".format(i,model.score(X_test,y_test)))\n",
    "\n",
    "    #f1score\n",
    "    f1 = f1_score(y_test,predict, average='weighted')\n",
    "    print(\"[{}]F1score : {}\".format(i,f1))\n",
    "    \n",
    "    #precision/recall\n",
    "    list=sk(y_test,predict,average='weighted')\n",
    "    print(\"[{}]Precision : {}\".format(i,list[0]))\n",
    "    print(\"[{}]Recall : {}\".format(i,list[1]))\n",
    "    print(\"\")\n",
    "\n",
    "    #결과 배열에 넣기\n",
    "    Result[i][0]=model.score(X_test,y_test)\n",
    "    Result[i][1]=f1\n",
    "    Result[i][2]=list[0]\n",
    "    Result[i][3]=list[1]\n",
    "    "
   ]
  },
  {
   "cell_type": "code",
   "execution_count": null,
   "id": "8526528e",
   "metadata": {},
   "outputs": [],
   "source": [
    "Result_df=pd.DataFrame(Result,columns=['Accuracy','F1-Score','Precision','Recall'])\n",
    "Result_df"
   ]
  },
  {
   "cell_type": "code",
   "execution_count": null,
   "id": "36393ed7",
   "metadata": {},
   "outputs": [],
   "source": [
    "print(\"Average of Accuracy {}\".format(Result_df['Accuracy'].mean()))\n",
    "print(\"Average of F1-Score {}\".format(Result_df['F1-Score'].mean()))\n",
    "print(\"Average of Precision {}\".format(Result_df['Precision'].mean()))\n",
    "print(\"Average of Recall {}\".format(Result_df['Recall'].mean()))"
   ]
  }
 ],
 "metadata": {
  "kernelspec": {
   "display_name": "Python 3 (ipykernel)",
   "language": "python",
   "name": "python3"
  },
  "language_info": {
   "codemirror_mode": {
    "name": "ipython",
    "version": 3
   },
   "file_extension": ".py",
   "mimetype": "text/x-python",
   "name": "python",
   "nbconvert_exporter": "python",
   "pygments_lexer": "ipython3",
   "version": "3.9.12"
  }
 },
 "nbformat": 4,
 "nbformat_minor": 5
}
