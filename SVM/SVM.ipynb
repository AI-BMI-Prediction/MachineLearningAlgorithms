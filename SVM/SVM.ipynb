{
 "cells": [
  {
   "cell_type": "code",
   "execution_count": 10,
   "id": "8cee7f0e",
   "metadata": {},
   "outputs": [],
   "source": [
    "import pandas as pd"
   ]
  },
  {
   "cell_type": "code",
   "execution_count": 13,
   "id": "a57868a6",
   "metadata": {},
   "outputs": [],
   "source": [
    "from sklearn.preprocessing import StandardScaler\n",
    "from sklearn import svm\n",
    "from sklearn import metrics\n",
    "from sklearn.metrics import f1_score ## F1 Score 구하기\n",
    "from sklearn.metrics import precision_recall_fscore_support as sk\n",
    "#먼저 데이터 읽어오기\n",
    "df=pd.read_excel('../optimal_data2/Continous_2weeks_28day_8term.xlsx')\n",
    "df.head()\n",
    "X=df.iloc[:,[1,3,4,5,6,7]]\n",
    "y=df.iloc[:,-1]"
   ]
  },
  {
   "cell_type": "code",
   "execution_count": 20,
   "id": "e0ca220a",
   "metadata": {},
   "outputs": [
    {
     "name": "stdout",
     "output_type": "stream",
     "text": [
      "[0]Accuracy : 0.6484375\n",
      "[0]F1score : 0.581636402027027\n",
      "[0]Precision : 0.529410677314404\n",
      "[0]Recall : 0.6484375\n",
      "[1]Accuracy : 0.66796875\n",
      "[1]F1score : 0.5801317294159043\n",
      "[1]Precision : 0.5956101190476191\n",
      "[1]Recall : 0.66796875\n"
     ]
    },
    {
     "name": "stderr",
     "output_type": "stream",
     "text": [
      "C:\\Users\\jaemin\\Anaconda3\\envs\\py38\\lib\\site-packages\\sklearn\\metrics\\_classification.py:1344: UndefinedMetricWarning: Precision and F-score are ill-defined and being set to 0.0 in labels with no predicted samples. Use `zero_division` parameter to control this behavior.\n",
      "  _warn_prf(average, modifier, msg_start, len(result))\n"
     ]
    },
    {
     "name": "stdout",
     "output_type": "stream",
     "text": [
      "[2]Accuracy : 0.70703125\n",
      "[2]F1score : 0.6555741864130022\n",
      "[2]Precision : 0.637721706081081\n",
      "[2]Recall : 0.70703125\n",
      "[3]Accuracy : 0.71875\n",
      "[3]F1score : 0.6616615853658536\n",
      "[3]Precision : 0.6226839048672566\n",
      "[3]Recall : 0.71875\n"
     ]
    },
    {
     "name": "stderr",
     "output_type": "stream",
     "text": [
      "C:\\Users\\jaemin\\Anaconda3\\envs\\py38\\lib\\site-packages\\sklearn\\metrics\\_classification.py:1344: UndefinedMetricWarning: Precision and F-score are ill-defined and being set to 0.0 in labels with no predicted samples. Use `zero_division` parameter to control this behavior.\n",
      "  _warn_prf(average, modifier, msg_start, len(result))\n",
      "C:\\Users\\jaemin\\Anaconda3\\envs\\py38\\lib\\site-packages\\sklearn\\metrics\\_classification.py:1344: UndefinedMetricWarning: Precision and F-score are ill-defined and being set to 0.0 in labels with no predicted samples. Use `zero_division` parameter to control this behavior.\n",
      "  _warn_prf(average, modifier, msg_start, len(result))\n"
     ]
    },
    {
     "name": "stdout",
     "output_type": "stream",
     "text": [
      "[4]Accuracy : 0.53515625\n",
      "[4]F1score : 0.46374708095485206\n",
      "[4]Precision : 0.44112847222222223\n",
      "[4]Recall : 0.53515625\n",
      "[5]Accuracy : 0.74609375\n",
      "[5]F1score : 0.6832141500454101\n",
      "[5]Precision : 0.6673301021836506\n",
      "[5]Recall : 0.74609375\n",
      "[6]Accuracy : 0.65234375\n",
      "[6]F1score : 0.6100986949651265\n",
      "[6]Precision : 0.5732083526183549\n",
      "[6]Recall : 0.65234375\n",
      "[7]Accuracy : 0.609375\n",
      "[7]F1score : 0.529835417527904\n",
      "[7]Precision : 0.5592540322580646\n",
      "[7]Recall : 0.609375\n"
     ]
    },
    {
     "name": "stderr",
     "output_type": "stream",
     "text": [
      "C:\\Users\\jaemin\\Anaconda3\\envs\\py38\\lib\\site-packages\\sklearn\\metrics\\_classification.py:1344: UndefinedMetricWarning: Precision and F-score are ill-defined and being set to 0.0 in labels with no predicted samples. Use `zero_division` parameter to control this behavior.\n",
      "  _warn_prf(average, modifier, msg_start, len(result))\n",
      "C:\\Users\\jaemin\\Anaconda3\\envs\\py38\\lib\\site-packages\\sklearn\\metrics\\_classification.py:1344: UndefinedMetricWarning: Precision and F-score are ill-defined and being set to 0.0 in labels with no predicted samples. Use `zero_division` parameter to control this behavior.\n",
      "  _warn_prf(average, modifier, msg_start, len(result))\n"
     ]
    },
    {
     "name": "stdout",
     "output_type": "stream",
     "text": [
      "[8]Accuracy : 0.6875\n",
      "[8]F1score : 0.6286567207073971\n",
      "[8]Precision : 0.5911462447340706\n",
      "[8]Recall : 0.6875\n"
     ]
    },
    {
     "name": "stderr",
     "output_type": "stream",
     "text": [
      "C:\\Users\\jaemin\\Anaconda3\\envs\\py38\\lib\\site-packages\\sklearn\\metrics\\_classification.py:1344: UndefinedMetricWarning: Precision and F-score are ill-defined and being set to 0.0 in labels with no predicted samples. Use `zero_division` parameter to control this behavior.\n",
      "  _warn_prf(average, modifier, msg_start, len(result))\n"
     ]
    },
    {
     "name": "stdout",
     "output_type": "stream",
     "text": [
      "[9]Accuracy : 0.6796875\n",
      "[9]F1score : 0.6608651534822736\n",
      "[9]Precision : 0.6430582524271844\n",
      "[9]Recall : 0.6796875\n"
     ]
    },
    {
     "name": "stderr",
     "output_type": "stream",
     "text": [
      "C:\\Users\\jaemin\\Anaconda3\\envs\\py38\\lib\\site-packages\\sklearn\\metrics\\_classification.py:1344: UndefinedMetricWarning: Precision and F-score are ill-defined and being set to 0.0 in labels with no predicted samples. Use `zero_division` parameter to control this behavior.\n",
      "  _warn_prf(average, modifier, msg_start, len(result))\n"
     ]
    }
   ],
   "source": [
    "#스케일링 먼저 하고 ndarray를 dataframe으로 변환\n",
    "scaler = StandardScaler()\n",
    "X=scaler.fit_transform(X)\n",
    "X=pd.DataFrame(X)\n",
    "\n",
    "Result=[[0 for j in range(4)] for i in range(10)]\n",
    "Count= int(322/10)*8\n",
    "for i in range(10):\n",
    "    #마지막 그룹은 34명\n",
    "    if i==9:\n",
    "        X_test=X.iloc[Count*i:-1]\n",
    "        X_train=X.drop(X.index[Count*i:-1])\n",
    "        y_test=y.iloc[Count*i:-1]\n",
    "        y_train=y.drop(y.index[Count*i:-1])\n",
    "    \n",
    "    #모든 그룹은 32명씩gi\n",
    "    X_test=X.iloc[Count*i:Count*(i+1)]\n",
    "    X_train=X.drop(X.index[Count*i:Count*(i+1)])\n",
    "    y_test=y.iloc[Count*i:Count*(i+1)]\n",
    "    y_train=y.drop(y.index[Count*i:Count*(i+1)])\n",
    "    #모델 정의, 예측\n",
    "    model = svm.SVC(kernel='rbf') # rbf Kernel\n",
    "    model.fit(X_train, y_train)\n",
    "    \n",
    "    predict=model.predict(X_test)\n",
    "        \n",
    "    #Accuracy\n",
    "    print(\"[{}]Accuracy : {}\".format(i,model.score(X_test,y_test)))\n",
    "\n",
    "    #f1score\n",
    "    f1 = f1_score(y_test,predict, average='weighted')\n",
    "    print(\"[{}]F1score : {}\".format(i,f1))\n",
    "    \n",
    "    #precision/recall\n",
    "    list=sk(y_test,predict,average='weighted')\n",
    "    print(\"[{}]Precision : {}\".format(i,list[0]))\n",
    "    print(\"[{}]Recall : {}\".format(i,list[1]))\n",
    "    \n",
    "\n",
    "    #결과 배열에 넣기\n",
    "    Result[i][0]=model.score(X_test,y_test)\n",
    "    Result[i][1]=f1\n",
    "    Result[i][2]=list[0]\n",
    "    Result[i][3]=list[1]"
   ]
  },
  {
   "cell_type": "code",
   "execution_count": 21,
   "id": "8526528e",
   "metadata": {},
   "outputs": [
    {
     "data": {
      "text/plain": [
       "[[0.6484375, 0.581636402027027, 0.529410677314404, 0.6484375],\n",
       " [0.66796875, 0.5801317294159043, 0.5956101190476191, 0.66796875],\n",
       " [0.70703125, 0.6555741864130022, 0.637721706081081, 0.70703125],\n",
       " [0.71875, 0.6616615853658536, 0.6226839048672566, 0.71875],\n",
       " [0.53515625, 0.46374708095485206, 0.44112847222222223, 0.53515625],\n",
       " [0.74609375, 0.6832141500454101, 0.6673301021836506, 0.74609375],\n",
       " [0.65234375, 0.6100986949651265, 0.5732083526183549, 0.65234375],\n",
       " [0.609375, 0.529835417527904, 0.5592540322580646, 0.609375],\n",
       " [0.6875, 0.6286567207073971, 0.5911462447340706, 0.6875],\n",
       " [0.6796875, 0.6608651534822736, 0.6430582524271844, 0.6796875]]"
      ]
     },
     "execution_count": 21,
     "metadata": {},
     "output_type": "execute_result"
    }
   ],
   "source": [
    "Result"
   ]
  },
  {
   "cell_type": "code",
   "execution_count": null,
   "id": "36393ed7",
   "metadata": {},
   "outputs": [],
   "source": []
  }
 ],
 "metadata": {
  "kernelspec": {
   "display_name": "Python 3 (ipykernel)",
   "language": "python",
   "name": "python3"
  },
  "language_info": {
   "codemirror_mode": {
    "name": "ipython",
    "version": 3
   },
   "file_extension": ".py",
   "mimetype": "text/x-python",
   "name": "python",
   "nbconvert_exporter": "python",
   "pygments_lexer": "ipython3",
   "version": "3.8.11"
  }
 },
 "nbformat": 4,
 "nbformat_minor": 5
}
