{
 "cells": [
  {
   "cell_type": "code",
   "execution_count": 93,
   "id": "4dd4e82d",
   "metadata": {},
   "outputs": [],
   "source": [
    "import pandas as pd\n",
    "import numpy as np\n",
    "import torch\n",
    "import torch.nn as nn\n",
    "import torch.nn.functional as F\n",
    "from torch import optim\n",
    "from torch.utils.data import TensorDataset, DataLoader\n",
    "from imblearn.over_sampling import SMOTE\n",
    "from sklearn.preprocessing import StandardScaler\n",
    "from sklearn.model_selection import train_test_split\n",
    "from sklearn.metrics import precision_recall_fscore_support as sk\n",
    "from sklearn.metrics import f1_score ## F1 Score 구하기\n",
    "from sklearn.metrics import accuracy_score\n",
    "%matplotlib inline\n"
   ]
  },
  {
   "cell_type": "code",
   "execution_count": 94,
   "id": "070df1e8",
   "metadata": {},
   "outputs": [],
   "source": [
    "USE_CUDA=torch.cuda.is_available()\n",
    "DEVICE=torch.device(\"cuda\" if USE_CUDA else \"cpu\")"
   ]
  },
  {
   "cell_type": "code",
   "execution_count": 95,
   "id": "ea13541b",
   "metadata": {},
   "outputs": [],
   "source": [
    "# Epoch과 Batch_size 선언\n",
    "EPOCHS = 100\n",
    "BATCH_SIZE = 8"
   ]
  },
  {
   "cell_type": "code",
   "execution_count": 96,
   "id": "535883df",
   "metadata": {},
   "outputs": [],
   "source": [
    "df=pd.read_excel('../optimal_data2/'+'Continous_2weeks_2day_1term.xlsx')\n",
    "df.head()\n",
    "X=df.iloc[:,[1,3,4,5,6,7]]\n",
    "y=df.iloc[:,-1]\n",
    "\n",
    "scaler = StandardScaler()\n",
    "X = scaler.fit_transform(X)\n",
    "X=pd.DataFrame(X)\n",
    "\n",
    "#결과 넣을 배열\n",
    "Result=[[0 for j in range(4)] for i in range(10)]\n",
    "Count=int(322/10)*83\n"
   ]
  },
  {
   "cell_type": "code",
   "execution_count": 105,
   "id": "1dd7fa56",
   "metadata": {},
   "outputs": [],
   "source": [
    "class DNN(nn.Module):\n",
    "    def __init__(self):\n",
    "        super(DNN, self).__init__()\n",
    "        self.input_layer = nn.Linear(6, 128)\n",
    "        self.hidden_layer1 = nn.Linear(128, 256)\n",
    "        self.hidden_layer2 = nn.Linear(256, 128)\n",
    "        self.output_layer   = nn.Linear(128,3)\n",
    "        self.relu = nn.ReLU()\n",
    "        \n",
    "    def forward(self, x):\n",
    "        out =  self.relu(self.input_layer(x))\n",
    "        out =  self.relu(self.hidden_layer1(out))\n",
    "        out =  self.relu(self.hidden_layer2(out))\n",
    "        out =  self.relu(self.output_layer(out))\n",
    "        return out "
   ]
  },
  {
   "cell_type": "code",
   "execution_count": 106,
   "id": "e4140eb3",
   "metadata": {},
   "outputs": [],
   "source": [
    "model=DNN().to(DEVICE)\n",
    "# 옵티마이저를 정의합니다. 옵티마이저에는 model.parameters()를 지정해야 합니다.\n",
    "optimizer    = optim.Adam(model.parameters(), lr=0.01)\n",
    "\n",
    "# 손실함수(loss function)을 지정합니다. Multi-Class Classification 이기 때문에 CrossEntropy 손실을 지정하였습니다.\n",
    "loss_fn = nn.CrossEntropyLoss()"
   ]
  },
  {
   "cell_type": "markdown",
   "id": "7d7e3d79",
   "metadata": {},
   "source": [
    "### 학습하기"
   ]
  },
  {
   "cell_type": "code",
   "execution_count": 107,
   "id": "c3f2c383",
   "metadata": {},
   "outputs": [],
   "source": [
    "def train(model, train_loader, optimizer):\n",
    "    model.train()\n",
    "    for batch_idx, (data, target) in enumerate(train_loader):\n",
    "        # 학습 데이터를 DEVICE의 메모리로 보냄\n",
    "        data, target=data.to(DEVICE), target.to(DEVICE)\n",
    "        #매 반복(iteration) 마다 기울기를 계산하기 위해 zero_grad() 호출\n",
    "        optimizer.zero_grad()\n",
    "        # 실제 모델의 예측값(output) 받아오기\n",
    "        output=model(data)\n",
    "        #정답 데이터와의 CrossEntropyLoss 계산\n",
    "        # 손실함수에 output, label 값을 대입하여 손실을 계산합니다.\n",
    "        loss = F.cross_entropy(output,target)\n",
    "        #기울기 계산\n",
    "        loss.backward()\n",
    "        # 계산된 Gradient를 업데이트 합니다.\n",
    "        optimizer.step()\n"
   ]
  },
  {
   "cell_type": "markdown",
   "id": "6ae2cd05",
   "metadata": {},
   "source": [
    "### 테스트 하기"
   ]
  },
  {
   "cell_type": "code",
   "execution_count": 108,
   "id": "ad328140",
   "metadata": {},
   "outputs": [],
   "source": [
    "def evaluate(model, test_loader):\n",
    "    # 모델을 평가 모드로 전환\n",
    "    model.eval()\n",
    "    # 필요한 변수 초기화\n",
    "    # Test과정에서의 Loss = test_loss\n",
    "    # 실제 모델의 예측이 정답과 맞은 횟수 = correct\n",
    "    test_loss = 0\n",
    "    correct = 0\n",
    "    pred_list=[]\n",
    "    with torch.no_grad(): # 평가 과정에서는 기울기를 계산하지 않으므로, no_grad명시\n",
    "        for data, target in test_loader:\n",
    "            data, target = data.to(DEVICE), target.to(DEVICE)\n",
    "            output = model(data)\n",
    "            \n",
    "            _, pred = output.max(dim=1)\n",
    "            pred_array = pred.tolist()\n",
    "            pred_list.append(pred_array) # confusion matrix를 위해 pred 리턴 값\n",
    "           \n",
    "            # 모든 오차 더하기\n",
    "            test_loss +=  F.cross_entropy(output, target, reduction=\"sum\").item()\n",
    "            \n",
    "            # 가장 큰 값을 가진 클래스가 모델의 예측입니다.\n",
    "            # 예측 클래스(pred)과 정답 클래스를 비교하여 일치할 경우 correct에 1을 더합니다.\n",
    "            pred = output.max(1, keepdim=True)[1]\n",
    "            # eq() 함수는 값이 일치하면 1을, 아니면 0을 출력.\n",
    "            correct += pred.eq(target.view_as(pred)).sum().item()\n",
    "\n",
    "    test_loss /= len(test_loader.dataset)\n",
    "    #정확도 계산\n",
    "    test_accuracy = 100. * correct / len(test_loader.dataset)\n",
    "    return test_loss, test_accuracy, pred_list"
   ]
  },
  {
   "cell_type": "code",
   "execution_count": 109,
   "id": "51ae5652",
   "metadata": {},
   "outputs": [],
   "source": [
    "#한 사람당 데이터 수\n",
    "Count_1=int(83*0.1)\n",
    "#한 사람당 데이터 수\n",
    "Count_2=83\n",
    "\n",
    "X_test=pd.DataFrame()\n",
    "X_train=pd.DataFrame()\n",
    "y_test=pd.DataFrame()\n",
    "y_train=pd.DataFrame()\n",
    "empty=pd.DataFrame()\n",
    "\n",
    "#결과 넣을 배열\n",
    "Result=[[0 for j in range(4)] for i in range(10)]\n",
    "\n"
   ]
  },
  {
   "cell_type": "code",
   "execution_count": 110,
   "id": "d4e392d7",
   "metadata": {},
   "outputs": [
    {
     "name": "stdout",
     "output_type": "stream",
     "text": [
      "SMOTE 적용 전 Train 레이블 값 분포: \n",
      " 0.0    22300\n",
      "1.0     1194\n",
      "2.0      656\n",
      "dtype: int64\n",
      "SMOTE 적용 전 Test 레이블 값 분포: \n",
      " 0.0    2290\n",
      "1.0     161\n",
      "2.0     125\n",
      "dtype: int64\n",
      "SMOTE 적용 후 학습용 피처/레이블 데이터 세트:  (2576, 6) (2576, 1)\n",
      "SMOTE 적용 후 Train 레이블 값 분포: \n",
      " 0.0    22300\n",
      "1.0    22300\n",
      "2.0    22300\n",
      "dtype: int64\n",
      "SMOTE 적용 후 Test 레이블 값 분포: \n",
      " 0.0    2290\n",
      "1.0     161\n",
      "2.0     125\n",
      "dtype: int64\n",
      "[1] Test Loss: 1.0986, Accuracy: 88.90%\n",
      "[2] Test Loss: 1.0986, Accuracy: 88.90%\n",
      "[3] Test Loss: 1.0986, Accuracy: 88.90%\n",
      "[4] Test Loss: 1.0986, Accuracy: 88.90%\n",
      "[5] Test Loss: 1.0986, Accuracy: 88.90%\n",
      "[6] Test Loss: 1.0986, Accuracy: 88.90%\n",
      "[7] Test Loss: 1.0986, Accuracy: 88.90%\n",
      "[8] Test Loss: 1.0986, Accuracy: 88.90%\n",
      "[9] Test Loss: 1.0986, Accuracy: 88.90%\n",
      "[10] Test Loss: 1.0986, Accuracy: 88.90%\n",
      "[11] Test Loss: 1.0986, Accuracy: 88.90%\n",
      "[12] Test Loss: 1.0986, Accuracy: 88.90%\n",
      "[13] Test Loss: 1.0986, Accuracy: 88.90%\n",
      "[14] Test Loss: 1.0986, Accuracy: 88.90%\n",
      "[15] Test Loss: 1.0986, Accuracy: 88.90%\n",
      "[16] Test Loss: 1.0986, Accuracy: 88.90%\n",
      "[17] Test Loss: 1.0986, Accuracy: 88.90%\n",
      "[18] Test Loss: 1.0986, Accuracy: 88.90%\n",
      "[19] Test Loss: 1.0986, Accuracy: 88.90%\n",
      "[20] Test Loss: 1.0986, Accuracy: 88.90%\n"
     ]
    },
    {
     "ename": "KeyboardInterrupt",
     "evalue": "",
     "output_type": "error",
     "traceback": [
      "\u001b[1;31m---------------------------------------------------------------------------\u001b[0m",
      "\u001b[1;31mKeyboardInterrupt\u001b[0m                         Traceback (most recent call last)",
      "Cell \u001b[1;32mIn[110], line 49\u001b[0m\n\u001b[0;32m     45\u001b[0m test_dataloader \u001b[38;5;241m=\u001b[39m DataLoader(test_dataset, batch_size\u001b[38;5;241m=\u001b[39m\u001b[38;5;241m16\u001b[39m,shuffle\u001b[38;5;241m=\u001b[39m\u001b[38;5;28;01mFalse\u001b[39;00m)\n\u001b[0;32m     48\u001b[0m \u001b[38;5;28;01mfor\u001b[39;00m epoch \u001b[38;5;129;01min\u001b[39;00m \u001b[38;5;28mrange\u001b[39m(\u001b[38;5;241m1\u001b[39m, EPOCHS \u001b[38;5;241m+\u001b[39m \u001b[38;5;241m1\u001b[39m):\n\u001b[1;32m---> 49\u001b[0m     \u001b[43mtrain\u001b[49m\u001b[43m(\u001b[49m\u001b[43mmodel\u001b[49m\u001b[43m,\u001b[49m\u001b[43m \u001b[49m\u001b[43mtrain_dataloader\u001b[49m\u001b[43m,\u001b[49m\u001b[43m \u001b[49m\u001b[43moptimizer\u001b[49m\u001b[43m)\u001b[49m\n\u001b[0;32m     50\u001b[0m     test_loss, test_accuracy, predict \u001b[38;5;241m=\u001b[39m evaluate(model, test_dataloader)\n\u001b[0;32m     52\u001b[0m     \u001b[38;5;28mprint\u001b[39m(\u001b[38;5;124m'\u001b[39m\u001b[38;5;124m[\u001b[39m\u001b[38;5;132;01m{}\u001b[39;00m\u001b[38;5;124m] Test Loss: \u001b[39m\u001b[38;5;132;01m{:.4f}\u001b[39;00m\u001b[38;5;124m, Accuracy: \u001b[39m\u001b[38;5;132;01m{:.2f}\u001b[39;00m\u001b[38;5;124m%\u001b[39m\u001b[38;5;124m'\u001b[39m\u001b[38;5;241m.\u001b[39mformat(epoch, test_loss, test_accuracy))\n",
      "Cell \u001b[1;32mIn[107], line 14\u001b[0m, in \u001b[0;36mtrain\u001b[1;34m(model, train_loader, optimizer)\u001b[0m\n\u001b[0;32m     12\u001b[0m loss \u001b[38;5;241m=\u001b[39m F\u001b[38;5;241m.\u001b[39mcross_entropy(output,target)\n\u001b[0;32m     13\u001b[0m \u001b[38;5;66;03m#기울기 계산\u001b[39;00m\n\u001b[1;32m---> 14\u001b[0m \u001b[43mloss\u001b[49m\u001b[38;5;241;43m.\u001b[39;49m\u001b[43mbackward\u001b[49m\u001b[43m(\u001b[49m\u001b[43m)\u001b[49m\n\u001b[0;32m     15\u001b[0m \u001b[38;5;66;03m# 계산된 Gradient를 업데이트 합니다.\u001b[39;00m\n\u001b[0;32m     16\u001b[0m optimizer\u001b[38;5;241m.\u001b[39mstep()\n",
      "File \u001b[1;32m~\\Anaconda3\\envs\\py38\\lib\\site-packages\\torch\\_tensor.py:255\u001b[0m, in \u001b[0;36mTensor.backward\u001b[1;34m(self, gradient, retain_graph, create_graph, inputs)\u001b[0m\n\u001b[0;32m    246\u001b[0m \u001b[38;5;28;01mif\u001b[39;00m has_torch_function_unary(\u001b[38;5;28mself\u001b[39m):\n\u001b[0;32m    247\u001b[0m     \u001b[38;5;28;01mreturn\u001b[39;00m handle_torch_function(\n\u001b[0;32m    248\u001b[0m         Tensor\u001b[38;5;241m.\u001b[39mbackward,\n\u001b[0;32m    249\u001b[0m         (\u001b[38;5;28mself\u001b[39m,),\n\u001b[1;32m   (...)\u001b[0m\n\u001b[0;32m    253\u001b[0m         create_graph\u001b[38;5;241m=\u001b[39mcreate_graph,\n\u001b[0;32m    254\u001b[0m         inputs\u001b[38;5;241m=\u001b[39minputs)\n\u001b[1;32m--> 255\u001b[0m \u001b[43mtorch\u001b[49m\u001b[38;5;241;43m.\u001b[39;49m\u001b[43mautograd\u001b[49m\u001b[38;5;241;43m.\u001b[39;49m\u001b[43mbackward\u001b[49m\u001b[43m(\u001b[49m\u001b[38;5;28;43mself\u001b[39;49m\u001b[43m,\u001b[49m\u001b[43m \u001b[49m\u001b[43mgradient\u001b[49m\u001b[43m,\u001b[49m\u001b[43m \u001b[49m\u001b[43mretain_graph\u001b[49m\u001b[43m,\u001b[49m\u001b[43m \u001b[49m\u001b[43mcreate_graph\u001b[49m\u001b[43m,\u001b[49m\u001b[43m \u001b[49m\u001b[43minputs\u001b[49m\u001b[38;5;241;43m=\u001b[39;49m\u001b[43minputs\u001b[49m\u001b[43m)\u001b[49m\n",
      "File \u001b[1;32m~\\Anaconda3\\envs\\py38\\lib\\site-packages\\torch\\autograd\\__init__.py:147\u001b[0m, in \u001b[0;36mbackward\u001b[1;34m(tensors, grad_tensors, retain_graph, create_graph, grad_variables, inputs)\u001b[0m\n\u001b[0;32m    144\u001b[0m \u001b[38;5;28;01mif\u001b[39;00m retain_graph \u001b[38;5;129;01mis\u001b[39;00m \u001b[38;5;28;01mNone\u001b[39;00m:\n\u001b[0;32m    145\u001b[0m     retain_graph \u001b[38;5;241m=\u001b[39m create_graph\n\u001b[1;32m--> 147\u001b[0m \u001b[43mVariable\u001b[49m\u001b[38;5;241;43m.\u001b[39;49m\u001b[43m_execution_engine\u001b[49m\u001b[38;5;241;43m.\u001b[39;49m\u001b[43mrun_backward\u001b[49m\u001b[43m(\u001b[49m\n\u001b[0;32m    148\u001b[0m \u001b[43m    \u001b[49m\u001b[43mtensors\u001b[49m\u001b[43m,\u001b[49m\u001b[43m \u001b[49m\u001b[43mgrad_tensors_\u001b[49m\u001b[43m,\u001b[49m\u001b[43m \u001b[49m\u001b[43mretain_graph\u001b[49m\u001b[43m,\u001b[49m\u001b[43m \u001b[49m\u001b[43mcreate_graph\u001b[49m\u001b[43m,\u001b[49m\u001b[43m \u001b[49m\u001b[43minputs\u001b[49m\u001b[43m,\u001b[49m\n\u001b[0;32m    149\u001b[0m \u001b[43m    \u001b[49m\u001b[43mallow_unreachable\u001b[49m\u001b[38;5;241;43m=\u001b[39;49m\u001b[38;5;28;43;01mTrue\u001b[39;49;00m\u001b[43m,\u001b[49m\u001b[43m \u001b[49m\u001b[43maccumulate_grad\u001b[49m\u001b[38;5;241;43m=\u001b[39;49m\u001b[38;5;28;43;01mTrue\u001b[39;49;00m\u001b[43m)\u001b[49m\n",
      "\u001b[1;31mKeyboardInterrupt\u001b[0m: "
     ]
    }
   ],
   "source": [
    "for i in range(10):\n",
    "    X_test=empty\n",
    "    X_train=empty\n",
    "    y_test=empty\n",
    "    y_train=empty\n",
    "    for j in range(322):\n",
    "        X_temp_test=X.iloc[Count_2*j+Count_1*i:Count_2*j+Count_1*(i+1)]\n",
    "        X_test=pd.concat([X_test,X_temp_test])\n",
    "        X_temp_train=X.iloc[Count_2*j+Count_1:Count_2*(j+1)]\n",
    "        X_train=pd.concat([X_train,X_temp_train])\n",
    "        \n",
    "        y_temp_test=y.iloc[Count_2*j+Count_1*i:Count_2*j+Count_1*(i+1)]\n",
    "        y_test=pd.concat([y_test,y_temp_test])\n",
    "        y_temp_train=y.iloc[Count_2*j+Count_1:Count_2*(j+1)]\n",
    "        y_train=pd.concat([y_train,y_temp_train])\n",
    "        \n",
    "    print('SMOTE 적용 전 Train 레이블 값 분포: \\n', y_train.value_counts())\n",
    "    print('SMOTE 적용 전 Test 레이블 값 분포: \\n', y_test.value_counts())\n",
    "    \n",
    "    # SMOTE 적용\n",
    "    smote = SMOTE(random_state=0)\n",
    "    X_train, y_train = smote.fit_resample(X_train,y_train)\n",
    "#     X_test,y_test = smote.fit_resample(X_test,y_test)\n",
    "    print('SMOTE 적용 후 학습용 피처/레이블 데이터 세트: ', X_test.shape, y_test.shape)\n",
    "    print('SMOTE 적용 후 Train 레이블 값 분포: \\n', y_train.value_counts())\n",
    "    print('SMOTE 적용 후 Test 레이블 값 분포: \\n', y_test.value_counts())\n",
    "    \n",
    "    #모든 데이터 torch로 변환\n",
    "    X_train = torch.FloatTensor(X_train.to_numpy())\n",
    "    X_test = torch.FloatTensor(X_test.to_numpy())    \n",
    "    \n",
    "    y_train=y_train.to_numpy()\n",
    "    y_train=np.ravel(y_train, order='C')\n",
    "    y_train = torch.LongTensor(y_train)\n",
    "    \n",
    "    y_test=y_test.to_numpy()\n",
    "    y_test=np.ravel(y_test, order='C')\n",
    "    y_test = torch.LongTensor(y_test)\n",
    "    \n",
    "    # train_dataset, test_dataset을 구별하여 정의\n",
    "    train_dataset = TensorDataset(X_train, y_train)\n",
    "    test_dataset=TensorDataset(X_test, y_test)\n",
    "\n",
    "    train_dataloader = DataLoader(train_dataset, batch_size=16,shuffle=False)\n",
    "    test_dataloader = DataLoader(test_dataset, batch_size=16,shuffle=False)\n",
    "    \n",
    "\n",
    "    for epoch in range(1, EPOCHS + 1):\n",
    "        train(model, train_dataloader, optimizer)\n",
    "        test_loss, test_accuracy, predict = evaluate(model, test_dataloader)\n",
    "\n",
    "        print('[{}] Test Loss: {:.4f}, Accuracy: {:.2f}%'.format(epoch, test_loss, test_accuracy))\n",
    "        \n",
    "    print(\"[{}]Predict : {}\".format(i,predict))\n",
    "    #Accuracy\n",
    "    accuracy_score=accuracy_score(y_test, predict) * 100\n",
    "    print(\"[{}]Accuracy : {}\".format(i,accuracy_score))   \n",
    "    #f1score\n",
    "    f1 = f1_score(y_test,predict, average='weighted')\n",
    "    print(\"[{}]F1score : {}\".format(i,predict))\n",
    "    #precision/recall\n",
    "    list=sk(y_test,predict,average='weighted')\n",
    "    print(\"[{}]Precision : {}\".format(i,list[0]))\n",
    "    print(\"[{}]Recall : {}\".format(i,list[1]))\n",
    "    print()"
   ]
  },
  {
   "cell_type": "code",
   "execution_count": null,
   "id": "3911c335",
   "metadata": {},
   "outputs": [],
   "source": [
    "train_features, train_labels=next(iter(train_dataloader))"
   ]
  },
  {
   "cell_type": "code",
   "execution_count": null,
   "id": "5b653434",
   "metadata": {},
   "outputs": [],
   "source": [
    "type(train_labels)\n"
   ]
  },
  {
   "cell_type": "code",
   "execution_count": null,
   "id": "66e2bf09",
   "metadata": {},
   "outputs": [],
   "source": [
    "train_labels"
   ]
  },
  {
   "cell_type": "code",
   "execution_count": null,
   "id": "a9da2a2e",
   "metadata": {},
   "outputs": [],
   "source": []
  }
 ],
 "metadata": {
  "kernelspec": {
   "display_name": "Python 3 (ipykernel)",
   "language": "python",
   "name": "python3"
  },
  "language_info": {
   "codemirror_mode": {
    "name": "ipython",
    "version": 3
   },
   "file_extension": ".py",
   "mimetype": "text/x-python",
   "name": "python",
   "nbconvert_exporter": "python",
   "pygments_lexer": "ipython3",
   "version": "3.8.11"
  }
 },
 "nbformat": 4,
 "nbformat_minor": 5
}
