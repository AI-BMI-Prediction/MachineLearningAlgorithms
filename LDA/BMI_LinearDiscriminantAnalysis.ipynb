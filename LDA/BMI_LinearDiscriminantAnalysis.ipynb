{
 "cells": [
  {
   "cell_type": "code",
   "execution_count": 1,
   "id": "e66e2a42",
   "metadata": {},
   "outputs": [],
   "source": [
    "import pandas as pd\n",
    "from sklearn.preprocessing import StandardScaler\n",
    "from sklearn.discriminant_analysis import LinearDiscriminantAnalysis\n",
    "from sklearn.metrics import f1_score ## F1 Score 구하기\n",
    "from sklearn.metrics import precision_recall_fscore_support as sk\n",
    "from imblearn.over_sampling import SMOTE"
   ]
  },
  {
   "cell_type": "code",
   "execution_count": 2,
   "id": "d6ac9f2b",
   "metadata": {},
   "outputs": [],
   "source": [
    "#먼저 데이터 읽어오기\n",
    "df=pd.read_excel('../optimal_data2/Continous_2weeks_2day_1term.xlsx')\n",
    "df.head()\n",
    "X=df.iloc[:,[1,3,4,5,6,7]]\n",
    "y=df.iloc[:,-1]"
   ]
  },
  {
   "cell_type": "code",
   "execution_count": 3,
   "id": "66829492",
   "metadata": {},
   "outputs": [],
   "source": [
    "#스케일링 먼저 하고 ndarray를 dataframe으로 변환\n",
    "scaler = StandardScaler()\n",
    "X=scaler.fit_transform(X)\n",
    "X=pd.DataFrame(X)\n",
    "\n",
    "#결과 넣을 배열\n",
    "Result=[[0 for j in range(4)] for i in range(10)]\n",
    "\n",
    "Count= int(322/10)*83"
   ]
  },
  {
   "cell_type": "code",
   "execution_count": 4,
   "id": "4fd8ff7b",
   "metadata": {},
   "outputs": [
    {
     "name": "stdout",
     "output_type": "stream",
     "text": [
      "[0]Accuracy : 0.5055578427336352\n",
      "[0]F1score : 0.49858542265165817\n",
      "[0]Precision : 0.506620144680236\n",
      "[0]Recall : 0.5055578427336352\n",
      "\n",
      "[1]Accuracy : 0.36319444444444443\n",
      "[1]F1score : 0.3500438992318502\n",
      "[1]Precision : 0.35405419745297145\n",
      "[1]Recall : 0.36319444444444443\n",
      "\n",
      "[2]Accuracy : 0.4748803827751196\n",
      "[2]F1score : 0.4762989112161901\n",
      "[2]Precision : 0.504939555832431\n",
      "[2]Recall : 0.4748803827751196\n",
      "\n"
     ]
    },
    {
     "name": "stderr",
     "output_type": "stream",
     "text": [
      "C:\\Users\\user\\anaconda3\\lib\\site-packages\\sklearn\\metrics\\_classification.py:1386: UserWarning: Note that pos_label (set to 'positive') is ignored when average != 'binary' (got 'weighted'). You may use labels=[pos_label] to specify a single positive class.\n",
      "  warnings.warn(\n",
      "C:\\Users\\user\\anaconda3\\lib\\site-packages\\sklearn\\metrics\\_classification.py:1386: UserWarning: Note that pos_label (set to 'positive') is ignored when average != 'binary' (got 'weighted'). You may use labels=[pos_label] to specify a single positive class.\n",
      "  warnings.warn(\n",
      "C:\\Users\\user\\anaconda3\\lib\\site-packages\\sklearn\\metrics\\_classification.py:1386: UserWarning: Note that pos_label (set to 'positive') is ignored when average != 'binary' (got 'weighted'). You may use labels=[pos_label] to specify a single positive class.\n",
      "  warnings.warn(\n"
     ]
    },
    {
     "name": "stdout",
     "output_type": "stream",
     "text": [
      "[3]Accuracy : 0.44373503591380686\n",
      "[3]F1score : 0.4408506668046466\n",
      "[3]Precision : 0.45497255811673887\n",
      "[3]Recall : 0.44373503591380686\n",
      "\n",
      "[4]Accuracy : 0.41630020521841105\n",
      "[4]F1score : 0.41887169119132817\n",
      "[4]Precision : 0.42334173279772597\n",
      "[4]Recall : 0.41630020521841105\n",
      "\n",
      "[5]Accuracy : 0.3285965624577074\n",
      "[5]F1score : 0.3005543569542089\n",
      "[5]Precision : 0.32664922094302884\n",
      "[5]Recall : 0.3285965624577074\n",
      "\n"
     ]
    },
    {
     "name": "stderr",
     "output_type": "stream",
     "text": [
      "C:\\Users\\user\\anaconda3\\lib\\site-packages\\sklearn\\metrics\\_classification.py:1386: UserWarning: Note that pos_label (set to 'positive') is ignored when average != 'binary' (got 'weighted'). You may use labels=[pos_label] to specify a single positive class.\n",
      "  warnings.warn(\n",
      "C:\\Users\\user\\anaconda3\\lib\\site-packages\\sklearn\\metrics\\_classification.py:1386: UserWarning: Note that pos_label (set to 'positive') is ignored when average != 'binary' (got 'weighted'). You may use labels=[pos_label] to specify a single positive class.\n",
      "  warnings.warn(\n",
      "C:\\Users\\user\\anaconda3\\lib\\site-packages\\sklearn\\metrics\\_classification.py:1386: UserWarning: Note that pos_label (set to 'positive') is ignored when average != 'binary' (got 'weighted'). You may use labels=[pos_label] to specify a single positive class.\n",
      "  warnings.warn(\n"
     ]
    },
    {
     "name": "stdout",
     "output_type": "stream",
     "text": [
      "[6]Accuracy : 0.3918461330082622\n",
      "[6]F1score : 0.38986325914698544\n",
      "[6]Precision : 0.3895396263940439\n",
      "[6]Recall : 0.3918461330082622\n",
      "\n",
      "[7]Accuracy : 0.5073684210526316\n",
      "[7]F1score : 0.4763051572406058\n",
      "[7]Precision : 0.5181863162320126\n",
      "[7]Recall : 0.5073684210526316\n",
      "\n",
      "[8]Accuracy : 0.35084882780921584\n",
      "[8]F1score : 0.3214309162224726\n",
      "[8]Precision : 0.3257054764459058\n",
      "[8]Recall : 0.35084882780921584\n",
      "\n"
     ]
    },
    {
     "name": "stderr",
     "output_type": "stream",
     "text": [
      "C:\\Users\\user\\anaconda3\\lib\\site-packages\\sklearn\\metrics\\_classification.py:1386: UserWarning: Note that pos_label (set to 'positive') is ignored when average != 'binary' (got 'weighted'). You may use labels=[pos_label] to specify a single positive class.\n",
      "  warnings.warn(\n",
      "C:\\Users\\user\\anaconda3\\lib\\site-packages\\sklearn\\metrics\\_classification.py:1386: UserWarning: Note that pos_label (set to 'positive') is ignored when average != 'binary' (got 'weighted'). You may use labels=[pos_label] to specify a single positive class.\n",
      "  warnings.warn(\n",
      "C:\\Users\\user\\anaconda3\\lib\\site-packages\\sklearn\\metrics\\_classification.py:1386: UserWarning: Note that pos_label (set to 'positive') is ignored when average != 'binary' (got 'weighted'). You may use labels=[pos_label] to specify a single positive class.\n",
      "  warnings.warn(\n"
     ]
    },
    {
     "name": "stdout",
     "output_type": "stream",
     "text": [
      "[9]Accuracy : 0.3744418177042291\n",
      "[9]F1score : 0.35070278400642985\n",
      "[9]Precision : 0.3436041839093566\n",
      "[9]Recall : 0.3744418177042291\n",
      "\n"
     ]
    },
    {
     "name": "stderr",
     "output_type": "stream",
     "text": [
      "C:\\Users\\user\\anaconda3\\lib\\site-packages\\sklearn\\metrics\\_classification.py:1386: UserWarning: Note that pos_label (set to 'positive') is ignored when average != 'binary' (got 'weighted'). You may use labels=[pos_label] to specify a single positive class.\n",
      "  warnings.warn(\n"
     ]
    }
   ],
   "source": [
    "for i in range(10):\n",
    "    #마지막 그룹은 34명\n",
    "    if i==9:\n",
    "        X_test=X.iloc[Count*i:-1]\n",
    "        X_train=X.drop(X.index[Count*i:-1])\n",
    "        y_test=y.iloc[Count*i:-1]\n",
    "        y_train=y.drop(y.index[Count*i:-1])\n",
    "    \n",
    "    #모든 그룹은 32명씩 (마지막은 34)\n",
    "    X_test=X.iloc[Count*i:Count*(i+1)]\n",
    "    X_train=X.drop(X.index[Count*i:Count*(i+1)])\n",
    "    y_test=y.iloc[Count*i:Count*(i+1)]\n",
    "    y_train=y.drop(y.index[Count*i:Count*(i+1)])\n",
    "    \n",
    "    #SMOTE 적용\n",
    "    smote = SMOTE(random_state=0)\n",
    "    X_train,y_train = smote.fit_resample(X_train,y_train)\n",
    "    X_test,y_test = smote.fit_resample(X_test,y_test)\n",
    "    \n",
    "    #모델 정의, 예측\n",
    "    model= LinearDiscriminantAnalysis().fit(X_train,y_train)\n",
    "    \n",
    "    predict=model.predict(X_test)\n",
    "    \n",
    "    #Accuracy\n",
    "    print(\"[{}]Accuracy : {}\".format(i,model.score(X_test,y_test)))\n",
    "    #f1score\n",
    "    f1 = f1_score(y_test,predict,pos_label='positive', average='weighted')\n",
    "    print(\"[{}]F1score : {}\".format(i,f1))\n",
    "    #precision/recall\n",
    "    list=sk(y_test,predict,average='weighted')\n",
    "    print(\"[{}]Precision : {}\".format(i,list[0]))\n",
    "    print(\"[{}]Recall : {}\".format(i,list[1]))\n",
    "    print()\n",
    "    \n",
    "    #결과 배열에 넣기\n",
    "    Result[i][0]=model.score(X_test,y_test)\n",
    "    Result[i][1]=f1\n",
    "    Result[i][2]=list[0]\n",
    "    Result[i][3]=list[1]"
   ]
  },
  {
   "cell_type": "code",
   "execution_count": 5,
   "id": "4ccd3ad2",
   "metadata": {
    "scrolled": true
   },
   "outputs": [
    {
     "data": {
      "text/html": [
       "<div>\n",
       "<style scoped>\n",
       "    .dataframe tbody tr th:only-of-type {\n",
       "        vertical-align: middle;\n",
       "    }\n",
       "\n",
       "    .dataframe tbody tr th {\n",
       "        vertical-align: top;\n",
       "    }\n",
       "\n",
       "    .dataframe thead th {\n",
       "        text-align: right;\n",
       "    }\n",
       "</style>\n",
       "<table border=\"1\" class=\"dataframe\">\n",
       "  <thead>\n",
       "    <tr style=\"text-align: right;\">\n",
       "      <th></th>\n",
       "      <th>Accuracy</th>\n",
       "      <th>F1-Score</th>\n",
       "      <th>Precision</th>\n",
       "      <th>Recall</th>\n",
       "    </tr>\n",
       "  </thead>\n",
       "  <tbody>\n",
       "    <tr>\n",
       "      <th>0</th>\n",
       "      <td>0.505558</td>\n",
       "      <td>0.498585</td>\n",
       "      <td>0.506620</td>\n",
       "      <td>0.505558</td>\n",
       "    </tr>\n",
       "    <tr>\n",
       "      <th>1</th>\n",
       "      <td>0.363194</td>\n",
       "      <td>0.350044</td>\n",
       "      <td>0.354054</td>\n",
       "      <td>0.363194</td>\n",
       "    </tr>\n",
       "    <tr>\n",
       "      <th>2</th>\n",
       "      <td>0.474880</td>\n",
       "      <td>0.476299</td>\n",
       "      <td>0.504940</td>\n",
       "      <td>0.474880</td>\n",
       "    </tr>\n",
       "    <tr>\n",
       "      <th>3</th>\n",
       "      <td>0.443735</td>\n",
       "      <td>0.440851</td>\n",
       "      <td>0.454973</td>\n",
       "      <td>0.443735</td>\n",
       "    </tr>\n",
       "    <tr>\n",
       "      <th>4</th>\n",
       "      <td>0.416300</td>\n",
       "      <td>0.418872</td>\n",
       "      <td>0.423342</td>\n",
       "      <td>0.416300</td>\n",
       "    </tr>\n",
       "    <tr>\n",
       "      <th>5</th>\n",
       "      <td>0.328597</td>\n",
       "      <td>0.300554</td>\n",
       "      <td>0.326649</td>\n",
       "      <td>0.328597</td>\n",
       "    </tr>\n",
       "    <tr>\n",
       "      <th>6</th>\n",
       "      <td>0.391846</td>\n",
       "      <td>0.389863</td>\n",
       "      <td>0.389540</td>\n",
       "      <td>0.391846</td>\n",
       "    </tr>\n",
       "    <tr>\n",
       "      <th>7</th>\n",
       "      <td>0.507368</td>\n",
       "      <td>0.476305</td>\n",
       "      <td>0.518186</td>\n",
       "      <td>0.507368</td>\n",
       "    </tr>\n",
       "    <tr>\n",
       "      <th>8</th>\n",
       "      <td>0.350849</td>\n",
       "      <td>0.321431</td>\n",
       "      <td>0.325705</td>\n",
       "      <td>0.350849</td>\n",
       "    </tr>\n",
       "    <tr>\n",
       "      <th>9</th>\n",
       "      <td>0.374442</td>\n",
       "      <td>0.350703</td>\n",
       "      <td>0.343604</td>\n",
       "      <td>0.374442</td>\n",
       "    </tr>\n",
       "  </tbody>\n",
       "</table>\n",
       "</div>"
      ],
      "text/plain": [
       "   Accuracy  F1-Score  Precision    Recall\n",
       "0  0.505558  0.498585   0.506620  0.505558\n",
       "1  0.363194  0.350044   0.354054  0.363194\n",
       "2  0.474880  0.476299   0.504940  0.474880\n",
       "3  0.443735  0.440851   0.454973  0.443735\n",
       "4  0.416300  0.418872   0.423342  0.416300\n",
       "5  0.328597  0.300554   0.326649  0.328597\n",
       "6  0.391846  0.389863   0.389540  0.391846\n",
       "7  0.507368  0.476305   0.518186  0.507368\n",
       "8  0.350849  0.321431   0.325705  0.350849\n",
       "9  0.374442  0.350703   0.343604  0.374442"
      ]
     },
     "execution_count": 5,
     "metadata": {},
     "output_type": "execute_result"
    }
   ],
   "source": [
    "Result_df=pd.DataFrame(Result,columns=['Accuracy','F1-Score','Precision','Recall'])\n",
    "Result_df"
   ]
  },
  {
   "cell_type": "code",
   "execution_count": 6,
   "id": "15e55b16",
   "metadata": {},
   "outputs": [
    {
     "name": "stdout",
     "output_type": "stream",
     "text": [
      "Average of Accuracy 0.4156769673117463\n",
      "Average of F1-Score 0.40235070646663756\n",
      "Average of Precision 0.4147613012804451\n",
      "Average of Recall 0.4156769673117463\n"
     ]
    }
   ],
   "source": [
    "print(\"Average of Accuracy {}\".format(Result_df['Accuracy'].mean()))\n",
    "print(\"Average of F1-Score {}\".format(Result_df['F1-Score'].mean()))\n",
    "print(\"Average of Precision {}\".format(Result_df['Precision'].mean()))\n",
    "print(\"Average of Recall {}\".format(Result_df['Recall'].mean()))"
   ]
  }
 ],
 "metadata": {
  "kernelspec": {
   "display_name": "Python 3 (ipykernel)",
   "language": "python",
   "name": "python3"
  },
  "language_info": {
   "codemirror_mode": {
    "name": "ipython",
    "version": 3
   },
   "file_extension": ".py",
   "mimetype": "text/x-python",
   "name": "python",
   "nbconvert_exporter": "python",
   "pygments_lexer": "ipython3",
   "version": "3.9.15"
  }
 },
 "nbformat": 4,
 "nbformat_minor": 5
}
