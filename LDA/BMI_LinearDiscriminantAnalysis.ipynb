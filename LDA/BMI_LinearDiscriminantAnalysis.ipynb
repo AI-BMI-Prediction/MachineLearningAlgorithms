{
 "cells": [
  {
   "cell_type": "code",
   "execution_count": 1,
   "id": "e66e2a42",
   "metadata": {},
   "outputs": [],
   "source": [
    "import pandas as pd\n",
    "from sklearn.preprocessing import StandardScaler\n",
    "from sklearn.discriminant_analysis import LinearDiscriminantAnalysis\n",
    "from sklearn.metrics import f1_score ## F1 Score 구하기\n",
    "from sklearn.metrics import precision_recall_fscore_support as sk\n",
    "from imblearn.over_sampling import SMOTE"
   ]
  },
  {
   "cell_type": "code",
   "execution_count": 2,
   "id": "d6ac9f2b",
   "metadata": {},
   "outputs": [],
   "source": [
    "#먼저 데이터 읽어오기\n",
    "df=pd.read_excel('../optimal_data2/Continous_2weeks_2day_1term.xlsx')\n",
    "df.head()\n",
    "X=df.iloc[:,[1,3,4,5,6,7]]\n",
    "y=df.iloc[:,-1]"
   ]
  },
  {
   "cell_type": "code",
   "execution_count": 3,
   "id": "66829492",
   "metadata": {},
   "outputs": [],
   "source": [
    "#스케일링 먼저 하고 ndarray를 dataframe으로 변환\n",
    "scaler = StandardScaler()\n",
    "X=scaler.fit_transform(X)\n",
    "X=pd.DataFrame(X)\n",
    "\n",
    "#결과 넣을 배열\n",
    "Result=[[0 for j in range(4)] for i in range(10)]"
   ]
  },
  {
   "cell_type": "code",
   "execution_count": 4,
   "id": "4fd8ff7b",
   "metadata": {},
   "outputs": [
    {
     "name": "stderr",
     "output_type": "stream",
     "text": [
      "C:\\Users\\user\\anaconda3\\lib\\site-packages\\sklearn\\utils\\validation.py:1111: DataConversionWarning: A column-vector y was passed when a 1d array was expected. Please change the shape of y to (n_samples, ), for example using ravel().\n",
      "  y = column_or_1d(y, warn=True)\n",
      "C:\\Users\\user\\anaconda3\\lib\\site-packages\\sklearn\\metrics\\_classification.py:1386: UserWarning: Note that pos_label (set to 'positive') is ignored when average != 'binary' (got 'weighted'). You may use labels=[pos_label] to specify a single positive class.\n",
      "  warnings.warn(\n"
     ]
    },
    {
     "name": "stdout",
     "output_type": "stream",
     "text": [
      "[0]Accuracy : 0.41280931586608444\n",
      "[0]F1score : 0.39359018166387366\n",
      "[0]Precision : 0.40889866248431944\n",
      "[0]Recall : 0.41280931586608444\n",
      "\n"
     ]
    },
    {
     "name": "stderr",
     "output_type": "stream",
     "text": [
      "C:\\Users\\user\\anaconda3\\lib\\site-packages\\sklearn\\utils\\validation.py:1111: DataConversionWarning: A column-vector y was passed when a 1d array was expected. Please change the shape of y to (n_samples, ), for example using ravel().\n",
      "  y = column_or_1d(y, warn=True)\n",
      "C:\\Users\\user\\anaconda3\\lib\\site-packages\\sklearn\\metrics\\_classification.py:1386: UserWarning: Note that pos_label (set to 'positive') is ignored when average != 'binary' (got 'weighted'). You may use labels=[pos_label] to specify a single positive class.\n",
      "  warnings.warn(\n"
     ]
    },
    {
     "name": "stdout",
     "output_type": "stream",
     "text": [
      "[1]Accuracy : 0.423731196400956\n",
      "[1]F1score : 0.41232816862742466\n",
      "[1]Precision : 0.41686755922440416\n",
      "[1]Recall : 0.423731196400956\n",
      "\n"
     ]
    },
    {
     "name": "stderr",
     "output_type": "stream",
     "text": [
      "C:\\Users\\user\\anaconda3\\lib\\site-packages\\sklearn\\utils\\validation.py:1111: DataConversionWarning: A column-vector y was passed when a 1d array was expected. Please change the shape of y to (n_samples, ), for example using ravel().\n",
      "  y = column_or_1d(y, warn=True)\n",
      "C:\\Users\\user\\anaconda3\\lib\\site-packages\\sklearn\\metrics\\_classification.py:1386: UserWarning: Note that pos_label (set to 'positive') is ignored when average != 'binary' (got 'weighted'). You may use labels=[pos_label] to specify a single positive class.\n",
      "  warnings.warn(\n"
     ]
    },
    {
     "name": "stdout",
     "output_type": "stream",
     "text": [
      "[2]Accuracy : 0.4887436456063907\n",
      "[2]F1score : 0.4853475916262293\n",
      "[2]Precision : 0.48572890162870946\n",
      "[2]Recall : 0.4887436456063907\n",
      "\n"
     ]
    },
    {
     "name": "stderr",
     "output_type": "stream",
     "text": [
      "C:\\Users\\user\\anaconda3\\lib\\site-packages\\sklearn\\utils\\validation.py:1111: DataConversionWarning: A column-vector y was passed when a 1d array was expected. Please change the shape of y to (n_samples, ), for example using ravel().\n",
      "  y = column_or_1d(y, warn=True)\n",
      "C:\\Users\\user\\anaconda3\\lib\\site-packages\\sklearn\\metrics\\_classification.py:1386: UserWarning: Note that pos_label (set to 'positive') is ignored when average != 'binary' (got 'weighted'). You may use labels=[pos_label] to specify a single positive class.\n",
      "  warnings.warn(\n"
     ]
    },
    {
     "name": "stdout",
     "output_type": "stream",
     "text": [
      "[3]Accuracy : 0.45022203122761784\n",
      "[3]F1score : 0.44053148378223594\n",
      "[3]Precision : 0.4464161648946299\n",
      "[3]Recall : 0.45022203122761784\n",
      "\n"
     ]
    },
    {
     "name": "stderr",
     "output_type": "stream",
     "text": [
      "C:\\Users\\user\\anaconda3\\lib\\site-packages\\sklearn\\utils\\validation.py:1111: DataConversionWarning: A column-vector y was passed when a 1d array was expected. Please change the shape of y to (n_samples, ), for example using ravel().\n",
      "  y = column_or_1d(y, warn=True)\n",
      "C:\\Users\\user\\anaconda3\\lib\\site-packages\\sklearn\\metrics\\_classification.py:1386: UserWarning: Note that pos_label (set to 'positive') is ignored when average != 'binary' (got 'weighted'). You may use labels=[pos_label] to specify a single positive class.\n",
      "  warnings.warn(\n"
     ]
    },
    {
     "name": "stdout",
     "output_type": "stream",
     "text": [
      "[4]Accuracy : 0.45540904579611513\n",
      "[4]F1score : 0.45186218234435555\n",
      "[4]Precision : 0.4592470751569542\n",
      "[4]Recall : 0.45540904579611513\n",
      "\n"
     ]
    },
    {
     "name": "stderr",
     "output_type": "stream",
     "text": [
      "C:\\Users\\user\\anaconda3\\lib\\site-packages\\sklearn\\utils\\validation.py:1111: DataConversionWarning: A column-vector y was passed when a 1d array was expected. Please change the shape of y to (n_samples, ), for example using ravel().\n",
      "  y = column_or_1d(y, warn=True)\n",
      "C:\\Users\\user\\anaconda3\\lib\\site-packages\\sklearn\\metrics\\_classification.py:1386: UserWarning: Note that pos_label (set to 'positive') is ignored when average != 'binary' (got 'weighted'). You may use labels=[pos_label] to specify a single positive class.\n",
      "  warnings.warn(\n"
     ]
    },
    {
     "name": "stdout",
     "output_type": "stream",
     "text": [
      "[5]Accuracy : 0.41747165056698865\n",
      "[5]F1score : 0.41065745191840936\n",
      "[5]Precision : 0.41270337497912246\n",
      "[5]Recall : 0.41747165056698865\n",
      "\n"
     ]
    },
    {
     "name": "stderr",
     "output_type": "stream",
     "text": [
      "C:\\Users\\user\\anaconda3\\lib\\site-packages\\sklearn\\utils\\validation.py:1111: DataConversionWarning: A column-vector y was passed when a 1d array was expected. Please change the shape of y to (n_samples, ), for example using ravel().\n",
      "  y = column_or_1d(y, warn=True)\n",
      "C:\\Users\\user\\anaconda3\\lib\\site-packages\\sklearn\\metrics\\_classification.py:1386: UserWarning: Note that pos_label (set to 'positive') is ignored when average != 'binary' (got 'weighted'). You may use labels=[pos_label] to specify a single positive class.\n",
      "  warnings.warn(\n"
     ]
    },
    {
     "name": "stdout",
     "output_type": "stream",
     "text": [
      "[6]Accuracy : 0.38071487946799665\n",
      "[6]F1score : 0.36804920374483313\n",
      "[6]Precision : 0.36790529786712506\n",
      "[6]Recall : 0.38071487946799665\n",
      "\n"
     ]
    },
    {
     "name": "stderr",
     "output_type": "stream",
     "text": [
      "C:\\Users\\user\\anaconda3\\lib\\site-packages\\sklearn\\utils\\validation.py:1111: DataConversionWarning: A column-vector y was passed when a 1d array was expected. Please change the shape of y to (n_samples, ), for example using ravel().\n",
      "  y = column_or_1d(y, warn=True)\n",
      "C:\\Users\\user\\anaconda3\\lib\\site-packages\\sklearn\\metrics\\_classification.py:1386: UserWarning: Note that pos_label (set to 'positive') is ignored when average != 'binary' (got 'weighted'). You may use labels=[pos_label] to specify a single positive class.\n",
      "  warnings.warn(\n"
     ]
    },
    {
     "name": "stdout",
     "output_type": "stream",
     "text": [
      "[7]Accuracy : 0.4165296052631579\n",
      "[7]F1score : 0.41539035352644904\n",
      "[7]Precision : 0.4143951578221792\n",
      "[7]Recall : 0.4165296052631579\n",
      "\n"
     ]
    },
    {
     "name": "stderr",
     "output_type": "stream",
     "text": [
      "C:\\Users\\user\\anaconda3\\lib\\site-packages\\sklearn\\utils\\validation.py:1111: DataConversionWarning: A column-vector y was passed when a 1d array was expected. Please change the shape of y to (n_samples, ), for example using ravel().\n",
      "  y = column_or_1d(y, warn=True)\n",
      "C:\\Users\\user\\anaconda3\\lib\\site-packages\\sklearn\\metrics\\_classification.py:1386: UserWarning: Note that pos_label (set to 'positive') is ignored when average != 'binary' (got 'weighted'). You may use labels=[pos_label] to specify a single positive class.\n",
      "  warnings.warn(\n"
     ]
    },
    {
     "name": "stdout",
     "output_type": "stream",
     "text": [
      "[8]Accuracy : 0.46797549429128377\n",
      "[8]F1score : 0.4655596581213941\n",
      "[8]Precision : 0.4670178248903414\n",
      "[8]Recall : 0.46797549429128377\n",
      "\n",
      "[9]Accuracy : 0.41649456147597413\n",
      "[9]F1score : 0.40584310132343343\n",
      "[9]Precision : 0.40646800709701286\n",
      "[9]Recall : 0.41649456147597413\n",
      "\n"
     ]
    },
    {
     "name": "stderr",
     "output_type": "stream",
     "text": [
      "C:\\Users\\user\\anaconda3\\lib\\site-packages\\sklearn\\utils\\validation.py:1111: DataConversionWarning: A column-vector y was passed when a 1d array was expected. Please change the shape of y to (n_samples, ), for example using ravel().\n",
      "  y = column_or_1d(y, warn=True)\n",
      "C:\\Users\\user\\anaconda3\\lib\\site-packages\\sklearn\\metrics\\_classification.py:1386: UserWarning: Note that pos_label (set to 'positive') is ignored when average != 'binary' (got 'weighted'). You may use labels=[pos_label] to specify a single positive class.\n",
      "  warnings.warn(\n"
     ]
    }
   ],
   "source": [
    "#한 사람당 데이터 수\n",
    "Count_1=int(83*0.1)\n",
    "#한 사람당 데이터 수\n",
    "Count_2=83\n",
    "\n",
    "X_test=pd.DataFrame()\n",
    "X_train=pd.DataFrame()\n",
    "y_test=pd.DataFrame()\n",
    "y_train=pd.DataFrame()\n",
    "empty=pd.DataFrame()\n",
    "\n",
    "for i in range(10):\n",
    "    X_test=empty\n",
    "    X_train=empty\n",
    "    y_test=empty\n",
    "    y_train=empty\n",
    "    for j in range(322):\n",
    "        X_temp_test=X.iloc[Count_2*j+Count_1*i:Count_2*j+Count_1*(i+1)]\n",
    "        X_test=pd.concat([X_test,X_temp_test])\n",
    "        X_temp_train=X.iloc[Count_2*j+Count_1:Count_2*(j+1)]\n",
    "        X_train=pd.concat([X_train,X_temp_train])\n",
    "        \n",
    "        y_temp_test=y.iloc[Count_2*j+Count_1*i:Count_2*j+Count_1*(i+1)]\n",
    "        y_test=pd.concat([y_test,y_temp_test])\n",
    "        y_temp_train=y.iloc[Count_2*j+Count_1:Count_2*(j+1)]\n",
    "        y_train=pd.concat([y_train,y_temp_train])\n",
    "    \n",
    "    #SMOTE 적용\n",
    "    smote = SMOTE(random_state=0)\n",
    "    X_train,y_train = smote.fit_resample(X_train,y_train)\n",
    "#     X_test,y_test = smote.fit_resample(X_test,y_test)\n",
    "    \n",
    "    #모델 정의, 예측\n",
    "    model= LinearDiscriminantAnalysis().fit(X_train,y_train)\n",
    "    \n",
    "    predict=model.predict(X_test)\n",
    "    \n",
    "    #Accuracy\n",
    "    print(\"[{}]Accuracy : {}\".format(i,model.score(X_test,y_test)))\n",
    "    #f1score\n",
    "    f1 = f1_score(y_test,predict,pos_label='positive', average='weighted')\n",
    "    print(\"[{}]F1score : {}\".format(i,f1))\n",
    "    #precision/recall\n",
    "    list=sk(y_test,predict,average='weighted')\n",
    "    print(\"[{}]Precision : {}\".format(i,list[0]))\n",
    "    print(\"[{}]Recall : {}\".format(i,list[1]))\n",
    "    print()\n",
    "    \n",
    "    #결과 배열에 넣기\n",
    "    Result[i][0]=model.score(X_test,y_test)\n",
    "    Result[i][1]=f1\n",
    "    Result[i][2]=list[0]\n",
    "    Result[i][3]=list[1]"
   ]
  },
  {
   "cell_type": "code",
   "execution_count": 5,
   "id": "4ccd3ad2",
   "metadata": {
    "scrolled": true
   },
   "outputs": [
    {
     "data": {
      "text/html": [
       "<div>\n",
       "<style scoped>\n",
       "    .dataframe tbody tr th:only-of-type {\n",
       "        vertical-align: middle;\n",
       "    }\n",
       "\n",
       "    .dataframe tbody tr th {\n",
       "        vertical-align: top;\n",
       "    }\n",
       "\n",
       "    .dataframe thead th {\n",
       "        text-align: right;\n",
       "    }\n",
       "</style>\n",
       "<table border=\"1\" class=\"dataframe\">\n",
       "  <thead>\n",
       "    <tr style=\"text-align: right;\">\n",
       "      <th></th>\n",
       "      <th>Accuracy</th>\n",
       "      <th>F1-Score</th>\n",
       "      <th>Precision</th>\n",
       "      <th>Recall</th>\n",
       "    </tr>\n",
       "  </thead>\n",
       "  <tbody>\n",
       "    <tr>\n",
       "      <th>0</th>\n",
       "      <td>0.412809</td>\n",
       "      <td>0.393590</td>\n",
       "      <td>0.408899</td>\n",
       "      <td>0.412809</td>\n",
       "    </tr>\n",
       "    <tr>\n",
       "      <th>1</th>\n",
       "      <td>0.423731</td>\n",
       "      <td>0.412328</td>\n",
       "      <td>0.416868</td>\n",
       "      <td>0.423731</td>\n",
       "    </tr>\n",
       "    <tr>\n",
       "      <th>2</th>\n",
       "      <td>0.488744</td>\n",
       "      <td>0.485348</td>\n",
       "      <td>0.485729</td>\n",
       "      <td>0.488744</td>\n",
       "    </tr>\n",
       "    <tr>\n",
       "      <th>3</th>\n",
       "      <td>0.450222</td>\n",
       "      <td>0.440531</td>\n",
       "      <td>0.446416</td>\n",
       "      <td>0.450222</td>\n",
       "    </tr>\n",
       "    <tr>\n",
       "      <th>4</th>\n",
       "      <td>0.455409</td>\n",
       "      <td>0.451862</td>\n",
       "      <td>0.459247</td>\n",
       "      <td>0.455409</td>\n",
       "    </tr>\n",
       "    <tr>\n",
       "      <th>5</th>\n",
       "      <td>0.417472</td>\n",
       "      <td>0.410657</td>\n",
       "      <td>0.412703</td>\n",
       "      <td>0.417472</td>\n",
       "    </tr>\n",
       "    <tr>\n",
       "      <th>6</th>\n",
       "      <td>0.380715</td>\n",
       "      <td>0.368049</td>\n",
       "      <td>0.367905</td>\n",
       "      <td>0.380715</td>\n",
       "    </tr>\n",
       "    <tr>\n",
       "      <th>7</th>\n",
       "      <td>0.416530</td>\n",
       "      <td>0.415390</td>\n",
       "      <td>0.414395</td>\n",
       "      <td>0.416530</td>\n",
       "    </tr>\n",
       "    <tr>\n",
       "      <th>8</th>\n",
       "      <td>0.467975</td>\n",
       "      <td>0.465560</td>\n",
       "      <td>0.467018</td>\n",
       "      <td>0.467975</td>\n",
       "    </tr>\n",
       "    <tr>\n",
       "      <th>9</th>\n",
       "      <td>0.416495</td>\n",
       "      <td>0.405843</td>\n",
       "      <td>0.406468</td>\n",
       "      <td>0.416495</td>\n",
       "    </tr>\n",
       "  </tbody>\n",
       "</table>\n",
       "</div>"
      ],
      "text/plain": [
       "   Accuracy  F1-Score  Precision    Recall\n",
       "0  0.412809  0.393590   0.408899  0.412809\n",
       "1  0.423731  0.412328   0.416868  0.423731\n",
       "2  0.488744  0.485348   0.485729  0.488744\n",
       "3  0.450222  0.440531   0.446416  0.450222\n",
       "4  0.455409  0.451862   0.459247  0.455409\n",
       "5  0.417472  0.410657   0.412703  0.417472\n",
       "6  0.380715  0.368049   0.367905  0.380715\n",
       "7  0.416530  0.415390   0.414395  0.416530\n",
       "8  0.467975  0.465560   0.467018  0.467975\n",
       "9  0.416495  0.405843   0.406468  0.416495"
      ]
     },
     "execution_count": 5,
     "metadata": {},
     "output_type": "execute_result"
    }
   ],
   "source": [
    "Result_df=pd.DataFrame(Result,columns=['Accuracy','F1-Score','Precision','Recall'])\n",
    "Result_df"
   ]
  },
  {
   "cell_type": "code",
   "execution_count": 6,
   "id": "15e55b16",
   "metadata": {},
   "outputs": [
    {
     "name": "stdout",
     "output_type": "stream",
     "text": [
      "Average of Accuracy 0.4330101425962566\n",
      "Average of F1-Score 0.42491593766786384\n",
      "Average of Precision 0.4285648026044798\n",
      "Average of Recall 0.4330101425962566\n"
     ]
    }
   ],
   "source": [
    "print(\"Average of Accuracy {}\".format(Result_df['Accuracy'].mean()))\n",
    "print(\"Average of F1-Score {}\".format(Result_df['F1-Score'].mean()))\n",
    "print(\"Average of Precision {}\".format(Result_df['Precision'].mean()))\n",
    "print(\"Average of Recall {}\".format(Result_df['Recall'].mean()))"
   ]
  },
  {
   "cell_type": "code",
   "execution_count": 7,
   "id": "b7454f56",
   "metadata": {},
   "outputs": [],
   "source": [
    "Matrix=pd.DataFrame(Result_df['Accuracy'],columns=['Accuracy'])\n",
    "Matrix['Accuracy']=Result_df['Accuracy']\n",
    "A=[Result_df['Accuracy'].mean(),Result_df['F1-Score'].mean(),Result_df['Precision'].mean(),Result_df['Recall'].mean()]\n",
    "A=pd.DataFrame(A,columns=['Accuracy'])\n",
    "Matrix=pd.concat([Matrix,A])\n",
    "Matrix=Matrix.transpose()\n",
    "Matrix.to_excel('./PFMatrix2.xlsx')"
   ]
  }
 ],
 "metadata": {
  "kernelspec": {
   "display_name": "Python 3 (ipykernel)",
   "language": "python",
   "name": "python3"
  },
  "language_info": {
   "codemirror_mode": {
    "name": "ipython",
    "version": 3
   },
   "file_extension": ".py",
   "mimetype": "text/x-python",
   "name": "python",
   "nbconvert_exporter": "python",
   "pygments_lexer": "ipython3",
   "version": "3.9.12"
  }
 },
 "nbformat": 4,
 "nbformat_minor": 5
}
